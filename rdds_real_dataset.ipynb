{
 "cells": [
  {
   "cell_type": "markdown",
   "metadata": {},
   "source": [
    "### Let's read the data"
   ]
  },
  {
   "cell_type": "code",
   "execution_count": 42,
   "metadata": {
    "collapsed": false
   },
   "outputs": [
    {
     "name": "stdout",
     "output_type": "stream",
     "text": [
      "gs://pyspark-workshop/so-posts/Posts.xml-aa\r\n",
      "gs://pyspark-workshop/so-posts/Posts.xml-ab\r\n",
      "gs://pyspark-workshop/so-posts/Posts.xml-ac\r\n",
      "gs://pyspark-workshop/so-posts/Posts.xml-ad\r\n",
      "gs://pyspark-workshop/so-posts/Posts.xml-ae\r\n",
      "gs://pyspark-workshop/so-posts/Posts.xml-af\r\n",
      "gs://pyspark-workshop/so-posts/Posts.xml-ag\r\n",
      "gs://pyspark-workshop/so-posts/Posts.xml-ah\r\n",
      "gs://pyspark-workshop/so-posts/Posts.xml-ai\r\n",
      "gs://pyspark-workshop/so-posts/Posts.xml-aj\r\n",
      "gs://pyspark-workshop/so-posts/Posts.xml-ak\r\n",
      "gs://pyspark-workshop/so-posts/Posts.xml-al\r\n",
      "gs://pyspark-workshop/so-posts/Posts.xml-am\r\n",
      "gs://pyspark-workshop/so-posts/Posts.xml-an\r\n",
      "gs://pyspark-workshop/so-posts/Posts.xml-ao\r\n",
      "gs://pyspark-workshop/so-posts/Posts.xml-ap\r\n",
      "gs://pyspark-workshop/so-posts/Posts.xml-aq\r\n",
      "gs://pyspark-workshop/so-posts/Posts.xml-ar\r\n",
      "gs://pyspark-workshop/so-posts/Posts.xml-as\r\n",
      "gs://pyspark-workshop/so-posts/Posts.xml-at\r\n",
      "gs://pyspark-workshop/so-posts/Posts.xml-au\r\n",
      "gs://pyspark-workshop/so-posts/Posts.xml-av\r\n",
      "gs://pyspark-workshop/so-posts/Posts.xml-aw\r\n",
      "gs://pyspark-workshop/so-posts/Posts.xml-ax\r\n",
      "gs://pyspark-workshop/so-posts/Posts.xml-ay\r\n",
      "gs://pyspark-workshop/so-posts/Posts.xml-az\r\n",
      "gs://pyspark-workshop/so-posts/Posts.xml-ba\r\n",
      "gs://pyspark-workshop/so-posts/Posts.xml-bb\r\n",
      "gs://pyspark-workshop/so-posts/Posts.xml-bc\r\n",
      "gs://pyspark-workshop/so-posts/Posts.xml-bd\r\n",
      "gs://pyspark-workshop/so-posts/Posts.xml-be\r\n",
      "gs://pyspark-workshop/so-posts/Posts.xml-bf\r\n",
      "gs://pyspark-workshop/so-posts/Posts.xml-bg\r\n",
      "gs://pyspark-workshop/so-posts/Posts.xml-bh\r\n",
      "gs://pyspark-workshop/so-posts/Posts.xml-bi\r\n",
      "gs://pyspark-workshop/so-posts/Posts.xml-bj\r\n",
      "gs://pyspark-workshop/so-posts/Posts.xml-bk\r\n",
      "gs://pyspark-workshop/so-posts/Posts.xml-bl\r\n",
      "gs://pyspark-workshop/so-posts/Posts.xml-bm\r\n",
      "gs://pyspark-workshop/so-posts/Posts.xml-bn\r\n",
      "gs://pyspark-workshop/so-posts/Posts.xml-bo\r\n",
      "gs://pyspark-workshop/so-posts/Posts.xml-bp\r\n",
      "gs://pyspark-workshop/so-posts/Posts.xml-bq\r\n",
      "gs://pyspark-workshop/so-posts/Posts.xml-br\r\n",
      "gs://pyspark-workshop/so-posts/Posts.xml-bs\r\n",
      "gs://pyspark-workshop/so-posts/Posts.xml-bt\r\n",
      "gs://pyspark-workshop/so-posts/Posts.xml-bu\r\n",
      "gs://pyspark-workshop/so-posts/Posts.xml-bv\r\n",
      "gs://pyspark-workshop/so-posts/Posts.xml-bw\r\n",
      "gs://pyspark-workshop/so-posts/Posts.xml-bx\r\n",
      "gs://pyspark-workshop/so-posts/Posts.xml-by\r\n",
      "gs://pyspark-workshop/so-posts/Posts.xml-bz\r\n",
      "gs://pyspark-workshop/so-posts/Posts.xml-ca\r\n",
      "gs://pyspark-workshop/so-posts/Posts.xml-cb\r\n",
      "gs://pyspark-workshop/so-posts/Posts.xml-cc\r\n",
      "gs://pyspark-workshop/so-posts/Posts.xml-cd\r\n",
      "gs://pyspark-workshop/so-posts/Posts.xml-ce\r\n",
      "gs://pyspark-workshop/so-posts/Posts.xml-cf\r\n",
      "gs://pyspark-workshop/so-posts/Posts.xml-cg\r\n",
      "gs://pyspark-workshop/so-posts/Posts.xml-ch\r\n",
      "gs://pyspark-workshop/so-posts/Posts.xml-ci\r\n",
      "gs://pyspark-workshop/so-posts/Posts.xml-cj\r\n",
      "gs://pyspark-workshop/so-posts/Posts.xml-ck\r\n",
      "gs://pyspark-workshop/so-posts/Posts.xml-cl\r\n",
      "gs://pyspark-workshop/so-posts/Posts.xml-cm\r\n",
      "gs://pyspark-workshop/so-posts/Posts.xml-cn\r\n",
      "gs://pyspark-workshop/so-posts/Posts.xml-co\r\n",
      "gs://pyspark-workshop/so-posts/Posts.xml-cp\r\n",
      "gs://pyspark-workshop/so-posts/Posts.xml-cq\r\n",
      "gs://pyspark-workshop/so-posts/Posts.xml-cr\r\n",
      "gs://pyspark-workshop/so-posts/Posts.xml-cs\r\n",
      "gs://pyspark-workshop/so-posts/Posts.xml-ct\r\n",
      "gs://pyspark-workshop/so-posts/Posts.xml-cu\r\n",
      "gs://pyspark-workshop/so-posts/Posts.xml-cv\r\n",
      "gs://pyspark-workshop/so-posts/Posts.xml-cw\r\n",
      "gs://pyspark-workshop/so-posts/Posts.xml-cx\r\n",
      "gs://pyspark-workshop/so-posts/Posts.xml-cy\r\n",
      "gs://pyspark-workshop/so-posts/Posts.xml-cz\r\n",
      "gs://pyspark-workshop/so-posts/Posts.xml-da\r\n",
      "gs://pyspark-workshop/so-posts/Posts.xml-db\r\n",
      "gs://pyspark-workshop/so-posts/Posts.xml-dc\r\n",
      "gs://pyspark-workshop/so-posts/Posts.xml-dd\r\n",
      "gs://pyspark-workshop/so-posts/Posts.xml-de\r\n",
      "gs://pyspark-workshop/so-posts/Posts.xml-df\r\n",
      "gs://pyspark-workshop/so-posts/Posts.xml-dg\r\n",
      "gs://pyspark-workshop/so-posts/Posts.xml-dh\r\n",
      "gs://pyspark-workshop/so-posts/Posts.xml-di\r\n",
      "gs://pyspark-workshop/so-posts/Posts.xml-dj\r\n",
      "gs://pyspark-workshop/so-posts/Posts.xml-dk\r\n",
      "gs://pyspark-workshop/so-posts/Posts.xml-dl\r\n",
      "gs://pyspark-workshop/so-posts/Posts.xml-dm\r\n",
      "gs://pyspark-workshop/so-posts/Posts.xml-dn\r\n",
      "gs://pyspark-workshop/so-posts/Posts.xml-do\r\n",
      "gs://pyspark-workshop/so-posts/Posts.xml-dp\r\n",
      "gs://pyspark-workshop/so-posts/Posts.xml-dq\r\n",
      "gs://pyspark-workshop/so-posts/Posts.xml-dr\r\n",
      "gs://pyspark-workshop/so-posts/Posts.xml-ds\r\n",
      "gs://pyspark-workshop/so-posts/Posts.xml-dt\r\n",
      "gs://pyspark-workshop/so-posts/Posts.xml-du\r\n",
      "gs://pyspark-workshop/so-posts/Posts.xml-dv\r\n",
      "gs://pyspark-workshop/so-posts/Posts.xml-dw\r\n",
      "gs://pyspark-workshop/so-posts/Posts.xml-dx\r\n",
      "gs://pyspark-workshop/so-posts/Posts.xml-dy\r\n",
      "gs://pyspark-workshop/so-posts/Posts.xml-dz\r\n",
      "gs://pyspark-workshop/so-posts/Posts.xml-ea\r\n",
      "gs://pyspark-workshop/so-posts/Posts.xml-eb\r\n",
      "gs://pyspark-workshop/so-posts/Posts.xml-ec\r\n",
      "gs://pyspark-workshop/so-posts/Posts.xml-ed\r\n",
      "gs://pyspark-workshop/so-posts/Posts.xml-ee\r\n",
      "gs://pyspark-workshop/so-posts/Posts.xml-ef\r\n",
      "gs://pyspark-workshop/so-posts/Posts.xml-eg\r\n",
      "gs://pyspark-workshop/so-posts/Posts.xml-eh\r\n",
      "gs://pyspark-workshop/so-posts/Posts.xml-ei\r\n",
      "gs://pyspark-workshop/so-posts/Posts.xml-ej\r\n",
      "gs://pyspark-workshop/so-posts/Posts.xml-ek\r\n",
      "gs://pyspark-workshop/so-posts/Posts.xml-el\r\n",
      "gs://pyspark-workshop/so-posts/Posts.xml-em\r\n",
      "gs://pyspark-workshop/so-posts/Posts.xml-en\r\n",
      "gs://pyspark-workshop/so-posts/Posts.xml-eo\r\n",
      "gs://pyspark-workshop/so-posts/Posts.xml-ep\r\n",
      "gs://pyspark-workshop/so-posts/Posts.xml-eq\r\n",
      "gs://pyspark-workshop/so-posts/Posts.xml-er\r\n",
      "gs://pyspark-workshop/so-posts/Posts.xml-es\r\n",
      "gs://pyspark-workshop/so-posts/Posts.xml-et\r\n",
      "gs://pyspark-workshop/so-posts/Posts.xml-eu\r\n",
      "gs://pyspark-workshop/so-posts/Posts.xml-ev\r\n",
      "gs://pyspark-workshop/so-posts/Posts.xml-ew\r\n",
      "gs://pyspark-workshop/so-posts/Posts.xml-ex\r\n",
      "gs://pyspark-workshop/so-posts/Posts.xml-ey\r\n",
      "gs://pyspark-workshop/so-posts/Posts.xml-ez\r\n",
      "gs://pyspark-workshop/so-posts/Posts.xml-fa\r\n",
      "gs://pyspark-workshop/so-posts/Posts.xml-fb\r\n",
      "gs://pyspark-workshop/so-posts/Posts.xml-fc\r\n",
      "gs://pyspark-workshop/so-posts/Posts.xml-fd\r\n",
      "gs://pyspark-workshop/so-posts/Posts.xml-fe\r\n",
      "gs://pyspark-workshop/so-posts/Posts.xml-ff\r\n",
      "gs://pyspark-workshop/so-posts/Posts.xml-fg\r\n",
      "gs://pyspark-workshop/so-posts/Posts.xml-fh\r\n",
      "gs://pyspark-workshop/so-posts/Posts.xml-fi\r\n",
      "gs://pyspark-workshop/so-posts/Posts.xml-fj\r\n",
      "gs://pyspark-workshop/so-posts/Posts.xml-fk\r\n",
      "gs://pyspark-workshop/so-posts/Posts.xml-fl\r\n",
      "gs://pyspark-workshop/so-posts/Posts.xml-fm\r\n",
      "gs://pyspark-workshop/so-posts/Posts.xml-fn\r\n",
      "gs://pyspark-workshop/so-posts/Posts.xml-fo\r\n",
      "gs://pyspark-workshop/so-posts/Posts.xml-fp\r\n",
      "gs://pyspark-workshop/so-posts/Posts.xml-fq\r\n",
      "gs://pyspark-workshop/so-posts/Posts.xml-fr\r\n",
      "gs://pyspark-workshop/so-posts/Posts.xml-fs\r\n",
      "gs://pyspark-workshop/so-posts/Posts.xml-ft\r\n",
      "gs://pyspark-workshop/so-posts/Posts.xml-fu\r\n",
      "gs://pyspark-workshop/so-posts/Posts.xml-fv\r\n",
      "gs://pyspark-workshop/so-posts/Posts.xml-fw\r\n",
      "gs://pyspark-workshop/so-posts/Posts.xml-fx\r\n",
      "gs://pyspark-workshop/so-posts/Posts.xml-fy\r\n",
      "gs://pyspark-workshop/so-posts/Posts.xml-fz\r\n",
      "gs://pyspark-workshop/so-posts/Posts.xml-ga\r\n",
      "gs://pyspark-workshop/so-posts/Posts.xml-gb\r\n",
      "gs://pyspark-workshop/so-posts/Posts.xml-gc\r\n",
      "gs://pyspark-workshop/so-posts/Posts.xml-gd\r\n",
      "gs://pyspark-workshop/so-posts/Posts.xml-ge\r\n",
      "gs://pyspark-workshop/so-posts/Posts.xml-gf\r\n",
      "gs://pyspark-workshop/so-posts/Posts.xml-gg\r\n",
      "gs://pyspark-workshop/so-posts/Posts.xml-gh\r\n",
      "gs://pyspark-workshop/so-posts/Posts.xml-gi\r\n",
      "gs://pyspark-workshop/so-posts/Posts.xml-gj\r\n",
      "gs://pyspark-workshop/so-posts/Posts.xml-gk\r\n",
      "gs://pyspark-workshop/so-posts/Posts.xml-gl\r\n",
      "gs://pyspark-workshop/so-posts/Posts.xml-gm\r\n",
      "gs://pyspark-workshop/so-posts/Posts.xml-gn\r\n",
      "gs://pyspark-workshop/so-posts/Posts.xml-go\r\n",
      "gs://pyspark-workshop/so-posts/Posts.xml-gp\r\n",
      "gs://pyspark-workshop/so-posts/Posts.xml-gq\r\n",
      "gs://pyspark-workshop/so-posts/Posts.xml-gr\r\n",
      "gs://pyspark-workshop/so-posts/Posts.xml-gs\r\n",
      "gs://pyspark-workshop/so-posts/Posts.xml-gt\r\n",
      "gs://pyspark-workshop/so-posts/Posts.xml-gu\r\n",
      "gs://pyspark-workshop/so-posts/Posts.xml-gv\r\n",
      "gs://pyspark-workshop/so-posts/Posts.xml-gw\r\n",
      "gs://pyspark-workshop/so-posts/Posts.xml-gx\r\n",
      "gs://pyspark-workshop/so-posts/Posts.xml-gy\r\n",
      "gs://pyspark-workshop/so-posts/Posts.xml-gz\r\n",
      "gs://pyspark-workshop/so-posts/Posts.xml-ha\r\n",
      "gs://pyspark-workshop/so-posts/Posts.xml-hb\r\n",
      "gs://pyspark-workshop/so-posts/Posts.xml-hc\r\n",
      "gs://pyspark-workshop/so-posts/Posts.xml-hd\r\n",
      "gs://pyspark-workshop/so-posts/Posts.xml-he\r\n",
      "gs://pyspark-workshop/so-posts/Posts.xml-hf\r\n",
      "gs://pyspark-workshop/so-posts/Posts.xml-hg\r\n",
      "gs://pyspark-workshop/so-posts/Posts.xml-hh\r\n",
      "gs://pyspark-workshop/so-posts/Posts.xml-hi\r\n",
      "gs://pyspark-workshop/so-posts/Posts.xml-hj\r\n",
      "gs://pyspark-workshop/so-posts/Posts.xml-hk\r\n",
      "gs://pyspark-workshop/so-posts/Posts.xml-hl\r\n",
      "gs://pyspark-workshop/so-posts/Posts.xml-hm\r\n",
      "gs://pyspark-workshop/so-posts/Posts.xml-hn\r\n",
      "gs://pyspark-workshop/so-posts/Posts.xml-ho\r\n",
      "gs://pyspark-workshop/so-posts/Posts.xml-hp\r\n",
      "gs://pyspark-workshop/so-posts/Posts.xml-hq\r\n",
      "gs://pyspark-workshop/so-posts/Posts.xml-hr\r\n",
      "gs://pyspark-workshop/so-posts/Posts.xml-hs\r\n",
      "gs://pyspark-workshop/so-posts/Posts.xml-ht\r\n",
      "gs://pyspark-workshop/so-posts/Posts.xml-hu\r\n",
      "gs://pyspark-workshop/so-posts/Posts.xml-hv\r\n",
      "gs://pyspark-workshop/so-posts/Posts.xml-hw\r\n",
      "gs://pyspark-workshop/so-posts/Posts.xml-hx\r\n",
      "gs://pyspark-workshop/so-posts/Posts.xml-hy\r\n",
      "gs://pyspark-workshop/so-posts/Posts.xml-hz\r\n",
      "gs://pyspark-workshop/so-posts/Posts.xml-ia\r\n",
      "gs://pyspark-workshop/so-posts/Posts.xml-ib\r\n",
      "gs://pyspark-workshop/so-posts/Posts.xml-ic\r\n",
      "gs://pyspark-workshop/so-posts/Posts.xml-id\r\n",
      "gs://pyspark-workshop/so-posts/Posts.xml-ie\r\n",
      "gs://pyspark-workshop/so-posts/Posts.xml-if\r\n",
      "gs://pyspark-workshop/so-posts/Posts.xml-ig\r\n",
      "gs://pyspark-workshop/so-posts/Posts.xml-ih\r\n",
      "gs://pyspark-workshop/so-posts/Posts.xml-ii\r\n",
      "gs://pyspark-workshop/so-posts/Posts.xml-ij\r\n",
      "gs://pyspark-workshop/so-posts/Posts.xml-ik\r\n",
      "gs://pyspark-workshop/so-posts/Posts.xml-il\r\n",
      "gs://pyspark-workshop/so-posts/Posts.xml-im\r\n",
      "gs://pyspark-workshop/so-posts/Posts.xml-in\r\n",
      "gs://pyspark-workshop/so-posts/Posts.xml-io\r\n",
      "gs://pyspark-workshop/so-posts/Posts.xml-ip\r\n",
      "gs://pyspark-workshop/so-posts/Posts.xml-iq\r\n",
      "gs://pyspark-workshop/so-posts/Posts.xml-ir\r\n",
      "gs://pyspark-workshop/so-posts/Posts.xml-is\r\n",
      "gs://pyspark-workshop/so-posts/Posts.xml-it\r\n",
      "gs://pyspark-workshop/so-posts/Posts.xml-iu\r\n",
      "gs://pyspark-workshop/so-posts/Posts.xml-iv\r\n",
      "gs://pyspark-workshop/so-posts/Posts.xml-iw\r\n",
      "gs://pyspark-workshop/so-posts/Posts.xml-ix\r\n",
      "gs://pyspark-workshop/so-posts/Posts.xml-iy\r\n",
      "gs://pyspark-workshop/so-posts/Posts.xml-iz\r\n",
      "gs://pyspark-workshop/so-posts/Posts.xml-ja\r\n",
      "gs://pyspark-workshop/so-posts/Posts.xml-jb\r\n",
      "gs://pyspark-workshop/so-posts/Posts.xml-jc\r\n",
      "gs://pyspark-workshop/so-posts/Posts.xml-jd\r\n",
      "gs://pyspark-workshop/so-posts/Posts.xml-je\r\n",
      "gs://pyspark-workshop/so-posts/Posts.xml-jf\r\n",
      "gs://pyspark-workshop/so-posts/Posts.xml-jg\r\n",
      "gs://pyspark-workshop/so-posts/Posts.xml-jh\r\n",
      "gs://pyspark-workshop/so-posts/Posts.xml-ji\r\n",
      "gs://pyspark-workshop/so-posts/Posts.xml-jj\r\n",
      "gs://pyspark-workshop/so-posts/Posts.xml-jk\r\n",
      "gs://pyspark-workshop/so-posts/Posts.xml-jl\r\n",
      "gs://pyspark-workshop/so-posts/Posts.xml-jm\r\n",
      "gs://pyspark-workshop/so-posts/Posts.xml-jn\r\n",
      "gs://pyspark-workshop/so-posts/Posts.xml-jo\r\n",
      "gs://pyspark-workshop/so-posts/Posts.xml-jp\r\n",
      "gs://pyspark-workshop/so-posts/Posts.xml-jq\r\n",
      "gs://pyspark-workshop/so-posts/Posts.xml-jr\r\n",
      "gs://pyspark-workshop/so-posts/Posts.xml-js\r\n",
      "gs://pyspark-workshop/so-posts/Posts.xml-jt\r\n",
      "gs://pyspark-workshop/so-posts/Posts.xml-ju\r\n",
      "gs://pyspark-workshop/so-posts/Posts.xml-jv\r\n",
      "gs://pyspark-workshop/so-posts/Posts.xml-jw\r\n",
      "gs://pyspark-workshop/so-posts/Posts.xml-jx\r\n",
      "gs://pyspark-workshop/so-posts/Posts.xml-jy\r\n",
      "gs://pyspark-workshop/so-posts/Posts.xml-jz\r\n",
      "gs://pyspark-workshop/so-posts/Posts.xml-ka\r\n",
      "gs://pyspark-workshop/so-posts/Posts.xml-kb\r\n",
      "gs://pyspark-workshop/so-posts/Posts.xml-kc\r\n",
      "gs://pyspark-workshop/so-posts/Posts.xml-kd\r\n",
      "gs://pyspark-workshop/so-posts/Posts.xml-ke\r\n",
      "gs://pyspark-workshop/so-posts/Posts.xml-kf\r\n",
      "gs://pyspark-workshop/so-posts/Posts.xml-kg\r\n",
      "gs://pyspark-workshop/so-posts/Posts.xml-kh\r\n",
      "gs://pyspark-workshop/so-posts/Posts.xml-ki\r\n",
      "gs://pyspark-workshop/so-posts/Posts.xml-kj\r\n",
      "gs://pyspark-workshop/so-posts/Posts.xml-kk\r\n",
      "gs://pyspark-workshop/so-posts/Posts.xml-kl\r\n",
      "gs://pyspark-workshop/so-posts/Posts.xml-km\r\n",
      "gs://pyspark-workshop/so-posts/Posts.xml-kn\r\n",
      "gs://pyspark-workshop/so-posts/Posts.xml-ko\r\n",
      "gs://pyspark-workshop/so-posts/Posts.xml-kp\r\n",
      "gs://pyspark-workshop/so-posts/Posts.xml-kq\r\n",
      "gs://pyspark-workshop/so-posts/Posts.xml-kr\r\n",
      "gs://pyspark-workshop/so-posts/Posts.xml-ks\r\n",
      "gs://pyspark-workshop/so-posts/Posts.xml-kt\r\n",
      "gs://pyspark-workshop/so-posts/Posts.xml-ku\r\n",
      "gs://pyspark-workshop/so-posts/Posts.xml-kv\r\n",
      "gs://pyspark-workshop/so-posts/Posts.xml-kw\r\n",
      "gs://pyspark-workshop/so-posts/Posts.xml-kx\r\n",
      "gs://pyspark-workshop/so-posts/Posts.xml-ky\r\n",
      "gs://pyspark-workshop/so-posts/Posts.xml-kz\r\n",
      "gs://pyspark-workshop/so-posts/Posts.xml-la\r\n",
      "gs://pyspark-workshop/so-posts/Posts.xml-lb\r\n",
      "gs://pyspark-workshop/so-posts/Posts.xml-lc\r\n",
      "gs://pyspark-workshop/so-posts/Posts.xml-ld\r\n",
      "gs://pyspark-workshop/so-posts/Posts.xml-le\r\n",
      "gs://pyspark-workshop/so-posts/Posts.xml-lf\r\n",
      "gs://pyspark-workshop/so-posts/Posts.xml-lg\r\n",
      "gs://pyspark-workshop/so-posts/Posts.xml-lh\r\n",
      "gs://pyspark-workshop/so-posts/Posts.xml-li\r\n",
      "gs://pyspark-workshop/so-posts/Posts.xml-lj\r\n",
      "gs://pyspark-workshop/so-posts/Posts.xml-lk\r\n",
      "gs://pyspark-workshop/so-posts/Posts.xml-ll\r\n",
      "gs://pyspark-workshop/so-posts/Posts.xml-lm\r\n",
      "gs://pyspark-workshop/so-posts/Posts.xml-ln\r\n",
      "gs://pyspark-workshop/so-posts/Posts.xml-lo\r\n",
      "gs://pyspark-workshop/so-posts/Posts.xml-lp\r\n",
      "gs://pyspark-workshop/so-posts/Posts.xml-lq\r\n",
      "gs://pyspark-workshop/so-posts/Posts.xml-lr\r\n",
      "gs://pyspark-workshop/so-posts/Posts.xml-ls\r\n",
      "gs://pyspark-workshop/so-posts/Posts.xml-lt\r\n",
      "gs://pyspark-workshop/so-posts/Posts.xml-lu\r\n",
      "gs://pyspark-workshop/so-posts/Posts.xml-lv\r\n",
      "gs://pyspark-workshop/so-posts/Posts.xml-lw\r\n",
      "gs://pyspark-workshop/so-posts/Posts.xml-lx\r\n",
      "gs://pyspark-workshop/so-posts/Posts.xml-ly\r\n",
      "gs://pyspark-workshop/so-posts/Posts.xml-lz\r\n",
      "gs://pyspark-workshop/so-posts/Posts.xml-ma\r\n",
      "gs://pyspark-workshop/so-posts/Posts.xml-mb\r\n",
      "gs://pyspark-workshop/so-posts/Posts.xml-mc\r\n",
      "gs://pyspark-workshop/so-posts/Posts.xml-md\r\n",
      "gs://pyspark-workshop/so-posts/Posts.xml-me\r\n",
      "gs://pyspark-workshop/so-posts/Posts.xml-mf\r\n",
      "gs://pyspark-workshop/so-posts/Posts.xml-mg\r\n",
      "gs://pyspark-workshop/so-posts/Posts.xml-mh\r\n",
      "gs://pyspark-workshop/so-posts/Posts.xml-mi\r\n",
      "gs://pyspark-workshop/so-posts/Posts.xml-mj\r\n",
      "gs://pyspark-workshop/so-posts/Posts.xml-mk\r\n"
     ]
    }
   ],
   "source": [
    "! gsutil ls gs://pyspark-workshop/so-posts"
   ]
  },
  {
   "cell_type": "code",
   "execution_count": 2,
   "metadata": {
    "collapsed": false
   },
   "outputs": [],
   "source": [
    "lines = sc.textFile(\"gs://pyspark-workshop/so-posts/*\")"
   ]
  },
  {
   "cell_type": "code",
   "execution_count": 33,
   "metadata": {
    "collapsed": true
   },
   "outputs": [],
   "source": [
    "# or a smaller piece of them\n",
    "lines = sc.textFile(\"gs://pyspark-workshop/so-posts/Posts.xml-*a\")"
   ]
  },
  {
   "cell_type": "markdown",
   "metadata": {},
   "source": [
    "### Let's check what's inside these files..."
   ]
  },
  {
   "cell_type": "code",
   "execution_count": 34,
   "metadata": {
    "collapsed": false
   },
   "outputs": [
    {
     "data": {
      "text/plain": [
       "['<?xml version=\"1.0\" encoding=\"utf-8\"?>',\n",
       " '<posts>',\n",
       " '  <row Id=\"4\" PostTypeId=\"1\" AcceptedAnswerId=\"7\" CreationDate=\"2008-07-31T21:42:52.667\" Score=\"421\" ViewCount=\"28370\" Body=\"&lt;p&gt;I want to use a track-bar to change a form\\'s opacity.&lt;/p&gt;&#xA;&#xA;&lt;p&gt;This is my code:&lt;/p&gt;&#xA;&#xA;&lt;pre&gt;&lt;code&gt;decimal trans = trackBar1.Value / 5000;&#xA;this.Opacity = trans;&#xA;&lt;/code&gt;&lt;/pre&gt;&#xA;&#xA;&lt;p&gt;When I try to build it, I get this error:&lt;/p&gt;&#xA;&#xA;&lt;blockquote&gt;&#xA;  &lt;p&gt;Cannot implicitly convert type \\'decimal\\' to \\'double\\'.&lt;/p&gt;&#xA;&lt;/blockquote&gt;&#xA;&#xA;&lt;p&gt;I tried making &lt;code&gt;trans&lt;/code&gt; a &lt;code&gt;double&lt;/code&gt;, but then the control doesn\\'t work. This code has worked fine for me in VB.NET in the past. &lt;/p&gt;&#xA;\" OwnerUserId=\"8\" LastEditorUserId=\"5455605\" LastEditorDisplayName=\"Rich B\" LastEditDate=\"2015-12-23T21:34:28.557\" LastActivityDate=\"2016-07-17T20:33:18.217\" Title=\"When setting a form\\'s opacity should I use a decimal or double?\" Tags=\"&lt;c#&gt;&lt;winforms&gt;&lt;type-conversion&gt;&lt;decimal&gt;&lt;opacity&gt;\" AnswerCount=\"13\" CommentCount=\"3\" FavoriteCount=\"33\" CommunityOwnedDate=\"2012-10-31T16:42:47.213\" />',\n",
       " '  <row Id=\"6\" PostTypeId=\"1\" AcceptedAnswerId=\"31\" CreationDate=\"2008-07-31T22:08:08.620\" Score=\"189\" ViewCount=\"13715\" Body=\"&lt;p&gt;I have an absolutely positioned &lt;code&gt;div&lt;/code&gt; containing several children, one of which is a relatively positioned &lt;code&gt;div&lt;/code&gt;. When I use a &lt;strong&gt;percentage-based width&lt;/strong&gt; on the child &lt;code&gt;div&lt;/code&gt;, it collapses to \\'0\\' width on &lt;a href=&quot;http://en.wikipedia.org/wiki/Internet_Explorer_7&quot;&gt;Internet&amp;nbsp;Explorer&amp;nbsp;7&lt;/a&gt;, but not on Firefox or Safari.&lt;/p&gt;&#xA;&#xA;&lt;p&gt;If I use &lt;strong&gt;pixel width&lt;/strong&gt;, it works. If the parent is relatively positioned, the percentage width on the child works.&lt;/p&gt;&#xA;&#xA;&lt;ol&gt;&#xA;&lt;li&gt;Is there something I\\'m missing here?&lt;/li&gt;&#xA;&lt;li&gt;Is there an easy fix for this besides the &lt;em&gt;pixel-based width&lt;/em&gt; on the&#xA;child?&lt;/li&gt;&#xA;&lt;li&gt;Is there an area of the CSS specification that covers this?&lt;/li&gt;&#xA;&lt;/ol&gt;&#xA;\" OwnerUserId=\"9\" LastEditorUserId=\"63550\" LastEditorDisplayName=\"Rich B\" LastEditDate=\"2016-03-19T06:05:48.487\" LastActivityDate=\"2016-03-19T06:10:52.170\" Title=\"Percentage width child element in absolutely positioned parent on Internet Explorer 7\" Tags=\"&lt;html&gt;&lt;css&gt;&lt;css3&gt;&lt;internet-explorer-7&gt;\" AnswerCount=\"5\" CommentCount=\"0\" FavoriteCount=\"7\" />',\n",
       " '  <row Id=\"7\" PostTypeId=\"2\" ParentId=\"4\" CreationDate=\"2008-07-31T22:17:57.883\" Score=\"305\" Body=\"&lt;p&gt;An explicit cast to double isn\\'t necessary.&lt;/p&gt;&#xA;&#xA;&lt;pre&gt;&lt;code&gt;double trans = (double)trackBar1.Value / 5000.0;&#xA;&lt;/code&gt;&lt;/pre&gt;&#xA;&#xA;&lt;p&gt;Identifying the constant as &lt;code&gt;5000.0&lt;/code&gt; (or as &lt;code&gt;5000d&lt;/code&gt;) is sufficient:&lt;/p&gt;&#xA;&#xA;&lt;pre&gt;&lt;code&gt;double trans = trackBar1.Value / 5000.0;&#xA;double trans = trackBar1.Value / 5000d;&#xA;&lt;/code&gt;&lt;/pre&gt;&#xA;\" OwnerUserId=\"9\" LastEditorUserId=\"967315\" LastEditDate=\"2012-10-14T11:50:16.703\" LastActivityDate=\"2012-10-14T11:50:16.703\" CommentCount=\"1\" />']"
      ]
     },
     "execution_count": 34,
     "metadata": {},
     "output_type": "execute_result"
    }
   ],
   "source": [
    "lines.take(5)"
   ]
  },
  {
   "cell_type": "markdown",
   "metadata": {},
   "source": [
    "### Only proper rows with posts"
   ]
  },
  {
   "cell_type": "code",
   "execution_count": 5,
   "metadata": {
    "collapsed": false
   },
   "outputs": [],
   "source": [
    "rows = lines.filter(lambda x: x.lstrip().startswith('<row'))"
   ]
  },
  {
   "cell_type": "markdown",
   "metadata": {},
   "source": [
    "### Let's parse this mess..."
   ]
  },
  {
   "cell_type": "code",
   "execution_count": 9,
   "metadata": {
    "collapsed": true
   },
   "outputs": [],
   "source": [
    "import xml.etree.ElementTree as ET"
   ]
  },
  {
   "cell_type": "code",
   "execution_count": 10,
   "metadata": {
    "collapsed": true
   },
   "outputs": [],
   "source": [
    "parsed = lines.map(lambda x: x.lstrip()).filter(lambda x: x.startswith('<row')).map(lambda x: ET.fromstring(x))"
   ]
  },
  {
   "cell_type": "code",
   "execution_count": 12,
   "metadata": {
    "collapsed": false
   },
   "outputs": [
    {
     "name": "stdout",
     "output_type": "stream",
     "text": [
      "[<Element 'row' at 0x7f58e69ed868>, <Element 'row' at 0x7f58e69ed818>]\n"
     ]
    }
   ],
   "source": [
    "from pprint import pprint\n",
    "pprint(parsed.take(2))"
   ]
  },
  {
   "cell_type": "markdown",
   "metadata": {},
   "source": [
    "### Better:"
   ]
  },
  {
   "cell_type": "code",
   "execution_count": 49,
   "metadata": {
    "collapsed": false
   },
   "outputs": [
    {
     "name": "stdout",
     "output_type": "stream",
     "text": [
      "[{'AcceptedAnswerId': '7',\n",
      "  'AnswerCount': '13',\n",
      "  'Body': \"<p>I want to use a track-bar to change a form's opacity.</p>\\n\"\n",
      "          '\\n'\n",
      "          '<p>This is my code:</p>\\n'\n",
      "          '\\n'\n",
      "          '<pre><code>decimal trans = trackBar1.Value / 5000;\\n'\n",
      "          'this.Opacity = trans;\\n'\n",
      "          '</code></pre>\\n'\n",
      "          '\\n'\n",
      "          '<p>When I try to build it, I get this error:</p>\\n'\n",
      "          '\\n'\n",
      "          '<blockquote>\\n'\n",
      "          \"  <p>Cannot implicitly convert type 'decimal' to 'double'.</p>\\n\"\n",
      "          '</blockquote>\\n'\n",
      "          '\\n'\n",
      "          '<p>I tried making <code>trans</code> a <code>double</code>, but '\n",
      "          \"then the control doesn't work. This code has worked fine for me in \"\n",
      "          'VB.NET in the past. </p>\\n',\n",
      "  'CommentCount': '3',\n",
      "  'CommunityOwnedDate': '2012-10-31T16:42:47.213',\n",
      "  'CreationDate': '2008-07-31T21:42:52.667',\n",
      "  'FavoriteCount': '33',\n",
      "  'Id': '4',\n",
      "  'LastActivityDate': '2016-07-17T20:33:18.217',\n",
      "  'LastEditDate': '2015-12-23T21:34:28.557',\n",
      "  'LastEditorDisplayName': 'Rich B',\n",
      "  'LastEditorUserId': '5455605',\n",
      "  'OwnerUserId': '8',\n",
      "  'PostTypeId': '1',\n",
      "  'Score': '421',\n",
      "  'Tags': '<c#><winforms><type-conversion><decimal><opacity>',\n",
      "  'Title': \"When setting a form's opacity should I use a decimal or double?\",\n",
      "  'ViewCount': '28370'},\n",
      " {'AcceptedAnswerId': '31',\n",
      "  'AnswerCount': '5',\n",
      "  'Body': '<p>I have an absolutely positioned <code>div</code> containing '\n",
      "          'several children, one of which is a relatively positioned '\n",
      "          '<code>div</code>. When I use a <strong>percentage-based '\n",
      "          \"width</strong> on the child <code>div</code>, it collapses to '0' \"\n",
      "          'width on <a '\n",
      "          'href=\"http://en.wikipedia.org/wiki/Internet_Explorer_7\">Internet&nbsp;Explorer&nbsp;7</a>, '\n",
      "          'but not on Firefox or Safari.</p>\\n'\n",
      "          '\\n'\n",
      "          '<p>If I use <strong>pixel width</strong>, it works. If the parent '\n",
      "          'is relatively positioned, the percentage width on the child '\n",
      "          'works.</p>\\n'\n",
      "          '\\n'\n",
      "          '<ol>\\n'\n",
      "          \"<li>Is there something I'm missing here?</li>\\n\"\n",
      "          '<li>Is there an easy fix for this besides the <em>pixel-based '\n",
      "          'width</em> on the\\n'\n",
      "          'child?</li>\\n'\n",
      "          '<li>Is there an area of the CSS specification that covers '\n",
      "          'this?</li>\\n'\n",
      "          '</ol>\\n',\n",
      "  'CommentCount': '0',\n",
      "  'CreationDate': '2008-07-31T22:08:08.620',\n",
      "  'FavoriteCount': '7',\n",
      "  'Id': '6',\n",
      "  'LastActivityDate': '2016-03-19T06:10:52.170',\n",
      "  'LastEditDate': '2016-03-19T06:05:48.487',\n",
      "  'LastEditorDisplayName': 'Rich B',\n",
      "  'LastEditorUserId': '63550',\n",
      "  'OwnerUserId': '9',\n",
      "  'PostTypeId': '1',\n",
      "  'Score': '189',\n",
      "  'Tags': '<html><css><css3><internet-explorer-7>',\n",
      "  'Title': 'Percentage width child element in absolutely positioned parent on '\n",
      "           'Internet Explorer 7',\n",
      "  'ViewCount': '13715'},\n",
      " {'Body': \"<p>An explicit cast to double isn't necessary.</p>\\n\"\n",
      "          '\\n'\n",
      "          '<pre><code>double trans = (double)trackBar1.Value / 5000.0;\\n'\n",
      "          '</code></pre>\\n'\n",
      "          '\\n'\n",
      "          '<p>Identifying the constant as <code>5000.0</code> (or as '\n",
      "          '<code>5000d</code>) is sufficient:</p>\\n'\n",
      "          '\\n'\n",
      "          '<pre><code>double trans = trackBar1.Value / 5000.0;\\n'\n",
      "          'double trans = trackBar1.Value / 5000d;\\n'\n",
      "          '</code></pre>\\n',\n",
      "  'CommentCount': '1',\n",
      "  'CreationDate': '2008-07-31T22:17:57.883',\n",
      "  'Id': '7',\n",
      "  'LastActivityDate': '2012-10-14T11:50:16.703',\n",
      "  'LastEditDate': '2012-10-14T11:50:16.703',\n",
      "  'LastEditorUserId': '967315',\n",
      "  'OwnerUserId': '9',\n",
      "  'ParentId': '4',\n",
      "  'PostTypeId': '2',\n",
      "  'Score': '305'}]\n"
     ]
    }
   ],
   "source": [
    "pprint(parsed.map(lambda x: x.attrib).take(3))"
   ]
  },
  {
   "cell_type": "markdown",
   "metadata": {},
   "source": [
    "### Let's compute tag counts!"
   ]
  },
  {
   "cell_type": "code",
   "execution_count": 36,
   "metadata": {
    "collapsed": false
   },
   "outputs": [
    {
     "data": {
      "text/plain": [
       "[['c#', 'winforms', 'type-conversion', 'decimal', 'opacity'],\n",
       " ['html', 'css', 'css3', 'internet-explorer-7'],\n",
       " [],\n",
       " ['c#', '.net', 'datetime'],\n",
       " ['c#', 'datetime', 'datediff', 'relative-time-span']]"
      ]
     },
     "execution_count": 36,
     "metadata": {},
     "output_type": "execute_result"
    }
   ],
   "source": [
    "def parse_tags(x):\n",
    "    return x[1:-1].split(\"><\")\n",
    "\n",
    "tags = parsed.map(lambda x: parse_tags(x.attrib['Tags']) if 'Tags' in x.attrib else [])\n",
    "tags.take(5)"
   ]
  },
  {
   "cell_type": "code",
   "execution_count": 40,
   "metadata": {
    "collapsed": false
   },
   "outputs": [],
   "source": [
    "counts = tags.flatMap(lambda x: x).groupBy(lambda x: x).map(lambda x: (x[0], len(x[1])))"
   ]
  },
  {
   "cell_type": "markdown",
   "metadata": {},
   "source": [
    "### Taking long? go to: http://cluster-1-m:8088 and explore it (if you're using default cluster name)."
   ]
  },
  {
   "cell_type": "markdown",
   "metadata": {},
   "source": [
    "### Did you know flatMap?? If yes, rewrite the statement before to use flatMap."
   ]
  },
  {
   "cell_type": "code",
   "execution_count": 41,
   "metadata": {
    "collapsed": false
   },
   "outputs": [
    {
     "data": {
      "text/plain": [
       "[('javascript', 1206322),\n",
       " ('java', 1128803),\n",
       " ('c#', 997465),\n",
       " ('php', 969707),\n",
       " ('android', 887010),\n",
       " ('jquery', 770009),\n",
       " ('python', 624016),\n",
       " ('html', 572556),\n",
       " ('c++', 467183),\n",
       " ('ios', 457172)]"
      ]
     },
     "execution_count": 41,
     "metadata": {},
     "output_type": "execute_result"
    }
   ],
   "source": [
    "counts.sortBy(lambda x: x[1], ascending=False).take(10)"
   ]
  },
  {
   "cell_type": "markdown",
   "metadata": {},
   "source": [
    "### Shout if you're the first one here! Congrats!\n",
    "\n",
    "Puzzles:\n",
    "\n",
    "1. Can you compute how many times someone asked about Python this month (you can compute posts with python tag only)?\n",
    "2. Can you measure Pythons monthly popularity over last year? Can you plot it?\n",
    "3. Can you do the same but only for main posts (questions)?\n",
    "4. (*) Can you find the question that has the most posts attached?? \n",
    "  1. Do the same but use ranking by total score of subposts."
   ]
  },
  {
   "cell_type": "code",
   "execution_count": 50,
   "metadata": {
    "collapsed": true
   },
   "outputs": [],
   "source": [
    "# if you hate xml (you do), then save it as json on hdfs!\n",
    "import json\n",
    "parsed.map(lambda x: json.dumps(x.attrib)).saveAsTextFile(\"posts.jsons\")"
   ]
  }
 ],
 "metadata": {
  "anaconda-cloud": {},
  "kernelspec": {
   "display_name": "Python [default]",
   "language": "python",
   "name": "python3"
  },
  "language_info": {
   "codemirror_mode": {
    "name": "ipython",
    "version": 3
   },
   "file_extension": ".py",
   "mimetype": "text/x-python",
   "name": "python",
   "nbconvert_exporter": "python",
   "pygments_lexer": "ipython3",
   "version": "3.5.2"
  }
 },
 "nbformat": 4,
 "nbformat_minor": 0
}
